import matplotlib.pyplot as plt
import pandas as pd
import numpy as np
import torch
import torchvision
import util.utilities

import learning

from importlib import reload


class DogVisionImageDataset(tensor. TensorDataset):
    """
    https://pytorch.org/tutorials/beginner/basics/data_tutorial.html#creating-a-custom-dataset-for-your-files
    """

    def __init__(
        self,
        annotations_file: Path,
        img_dir: Path,
        transform: Union[Callable[[Tensor], Tensor], None] = None,
        target_transform: Union[Callable[[Union[Tensor, Any]], Tensor], None] = None,
        limit_data: Optional[int] = None,
    ):
        img_labels = pd.read_csv(annotations_file, header=None, delimiter=" ")
        if limit_data:
            img_labels = img_labels[:limit_data]
        self.img_labels = img_labels
        self.img_dir = img_dir
        self.transform = transform
        self.target_transform = target_transform

    def __len__(self):
        return len(self.img_labels)

    def __getitem__(self, idx: int):
        file_name = self.img_labels.iloc[idx, 0]
        label = self.img_labels.iloc[idx, 1]
        img_path = self.img_dir.joinpath(str(label)).joinpath(str(file_name))
        # image = read_image(str(img_path)).float() / 255
        image = read_image(str(img_path), ImageReadMode.RGB).float() / 255
        if self.transform:
            image = self.transform(image)
        if self.target_transform:
            label = self.target_transform(label)
        else:
            label = torch.tensor(label)
        return image, label

