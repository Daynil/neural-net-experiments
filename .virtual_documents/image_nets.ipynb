from pathlib import Path
from typing import Union, Callable, Any, Optional

import matplotlib.pyplot as plt
import pandas as pd
import numpy as np
import torch
import torchvision
import util.utilities

import learning
import data_loaders

from importlib import reload


reload(data_loaders)


data_base_path = Path(r"F:\Coding\data-science\datasets\dog-breeds")


class DogVisionImageDataset(torch.utils.data.TensorDataset):
    """
    https://pytorch.org/tutorials/beginner/basics/data_tutorial.html#creating-a-custom-dataset-for-your-files
    """

    labels_df: pd.DataFrame
    labels_one_hot: torch.Tensor

    def __init__(
        self,
        annotations_file: Path,
        img_dir: Path,
        transform: Union[Callable[[torch.Tensor], torch.Tensor], None] = None,
        target_transform: Union[Callable[[Union[torch.Tensor, Any]], torch.Tensor], None] = None,
        limit_data: Optional[int] = None,
    ):
        self.labels_df = pd.read_csv(annotations_file, header=0)
        self.labels_unique = self.labels_df['breed'].unique()
        self.labels_one_hot = torch.from_numpy(pd.get_dummies(self.labels_df['breed']).to_numpy())
        
        if limit_data:
            self.labels_df = self.labels_df[:limit_data]
        self.img_dir = img_dir
        self.transform = transform
        self.target_transform = target_transform

    def __len__(self):
        return len(self.labels_df)

    def __getitem__(self, idx: int):
        file_name = self.labels_df.iloc[idx, 0]
        label_name = self.labels_df.iloc[idx, 1]
        label = self.labels_one_hot[idx]
        print(file_name, label)
        img_path = self.img_dir/f"{str(file_name)}.jpg"
        image = torchvision.io.read_image(str(img_path), torchvision.io.ImageReadMode.RGB).float() / 255
        if self.transform:
            image = self.transform(image)
        if self.target_transform:
            label = self.target_transform(label)
        return image, label

    def get_dataset(self, batch_size: int):
        return torch.utils.data.DataLoader(self, batch_size=batch_size)

    def get_label_name(self, label_idx: int):
        return self.labels_unique[label_idx]

dataset = DogVisionImageDataset(
    annotations_file=data_base_path/"labels.csv",
    img_dir=data_base_path/"train"
)
test_dataset = DogVisionImageDataset(
    annotations_file=data_base_path/"labels.csv",
    img_dir=data_base_path/"train"
)


data_loaders.preview_data_sample(dataset);


dataset.labels_unique[99]


dataset.labels_unique

