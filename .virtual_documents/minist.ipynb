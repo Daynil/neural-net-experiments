import data_loaders
import mnist
import matplotlib.pyplot as plt
import numpy as np
from PIL import Image
import torch

train_loader, valid_loader, test_loader = mnist.get_data()

# data_loaders.preview_data_sample(train_loader.dataset)
image, label = train_loader.dataset[0]
# image.shape
# t = Image.open(r'C:\Users\Danny\ml_datasets\mnist\train\4\02542.png')
t = Image.open(r"C:\Users\Danny\OneDrive\2 Areas\IP RxVeriSure\rxverisure\logo\Main Logo Check.png")
torch.tensor(np.array(t)).shape

# plt.imshow


from importlib import reload # import the reload function
reload(data_loaders) 


data_loaders.preview_data_sample(train_loader.dataset)


from torchvision.models import resnet18
import learning


torch.cuda.is_available()


from torch import nn

torch.cuda.empty_cache()
model = resnet18(weights=None, num_classes=10).to("cuda")
learner = learning.Learner(
    data_loaders=learning.DataLoaders(train_loader, valid_loader, test_loader),
    model=model,
    loss_function=nn.CrossEntropyLoss(),
    optimizer=torch.optim.SGD(model.parameters(), lr=0.1),
    device="cuda"
)

learner.train_model(5)


from torchvision.io import ImageReadMode, read_image
from torchvision.models import resnet18

test_4_gray = read_image(r'C:\Users\Danny\ml_datasets\mnist\train\4\02542.png')
test_4_rgb = read_image(r'C:\Users\Danny\ml_datasets\mnist\train\4\02542.png', ImageReadMode.RGB)
test_4_gray.shape, test_4_rgb.shape


image.shape, image.squeeze().shape


test_4_gray.shape, test_4_gray.squeeze().shape


plt.imshow(test_4_gray.permute(1, 2, 0), cmap='gray')


plt.imshow(test_4_rgb.permute(1, 2, 0))


# model = torch.hub.load("pytorch/vision:v0.10.0", "resnet18", pretrained=False)
model = resnet18(num_classes=10, pretrained=False)
model.eval()
logits = model(test_4_rgb.float().unsqueeze(0))
logits
# test_4_rgb.float().byte()
