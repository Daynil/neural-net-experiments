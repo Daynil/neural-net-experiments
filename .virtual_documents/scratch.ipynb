import matplotlib.pyplot as plt
import pandas as pd
import numpy as np
import torch

import learning

from importlib import reload


from sklearn.datasets import make_circles


circles = make_circles(n_samples=1000, noise=0.026)
circles_X = circles[0]
circles_y = circles[1]

plt.scatter(
    x=circles_X[:, :1], y=circles_X[:, 1:], c=circles_y, cmap=plt.cm.RdYlGn
)


reload(learning)





torch.manual_seed(42)

# Simple -5 to 5 range with 100 steps
X = torch.linspace(-5, 5, 100)
# Create a simple sine wave as our target for prediction
y = torch.sin(X)

# Datasets need to be in the form of 1 array per dataset. Since we only have 1 value per, just unsqueeze.
# Unsqueeze takes single values [1,2,3] and makes them have 1 row each [[1], [2]. [3]], which is what we need
dataset = list(zip(X.unsqueeze(1), y.unsqueeze(1)))

# A simple model
model = torch.nn.Sequential(
    torch.nn.Linear(1, 1000),
    torch.nn.ReLU(),
    torch.nn.Linear(1000, 1)
).to("cuda")

# More complex, harder to tune learn rate, etc. Probably would end up better with more tweaks?
# model = torch.nn.Sequential(
#     torch.nn.Linear(1, 100),
#     torch.nn.ReLU(),
#     torch.nn.Linear(100, 100),
#     torch.nn.ReLU(),
#     torch.nn.Linear(100, 100),
#     torch.nn.ReLU(),
#     torch.nn.Linear(100, 100),
#     torch.nn.ReLU(),
#     torch.nn.Linear(100, 1),
# ).to("cuda")

epochs = 20

optimizer = torch.optim.SGD(model.parameters(), lr=0.001)
# Higher learning rates better for more complex model
# optimizer = torch.optim.SGD(model.parameters(), lr=0.08)
# scheduler = torch.optim.lr_scheduler.OneCycleLR(
#     optimizer, max_lr=0.04, steps_per_epoch=len(dataset), epochs=epochs
# )
scheduler = None

learner = learning.Learner(
    data_loaders=learning.DataLoaders(
        torch.utils.data.DataLoader(dataset, batch_size=10), 
        torch.utils.data.DataLoader(dataset, batch_size=10),
        torch.utils.data.DataLoader(dataset, batch_size=10)
    ),
    model=model,
    loss_function=torch.nn.MSELoss(),
    optimizer=optimizer,
    scheduler=scheduler,
    device="cuda"
    # device="cpu"
)
learner.train_model(epochs)
learner.plot_epoch_data()





with torch.inference_mode():
    y_preds = model(X.unsqueeze(1).to("cuda"))
    
print(f"mse: {torch.nn.MSELoss()(y_preds, y.unsqueeze(1).to('cuda'))}")
plt.scatter(x=X, y=y)
plt.scatter(x=X, y=y_preds.cpu())
