{
 "cells": [
  {
   "cell_type": "code",
   "execution_count": 1,
   "metadata": {
    "ExecuteTime": {
     "end_time": "2023-09-09T20:46:40.875537300Z",
     "start_time": "2023-09-09T20:46:27.856778500Z"
    }
   },
   "outputs": [
    {
     "data": {
      "text/plain": "torch.Size([32, 32, 4])"
     },
     "execution_count": 1,
     "metadata": {},
     "output_type": "execute_result"
    }
   ],
   "source": [
    "import data_loaders\n",
    "import mnist\n",
    "import matplotlib.pyplot as plt\n",
    "import numpy as np\n",
    "from PIL import Image\n",
    "import torch\n",
    "\n",
    "train_loader, valid_loader, test_loader = mnist.get_data()\n",
    "\n",
    "# data_loaders.preview_data_sample(train_loader.dataset)\n",
    "image, label = train_loader.dataset[0]\n",
    "# image.shape\n",
    "# t = Image.open(r'C:\\Users\\Danny\\ml_datasets\\mnist\\train\\4\\02542.png')\n",
    "t = Image.open(r\"C:\\Users\\Danny\\OneDrive\\2 Areas\\IP RxVeriSure\\rxverisure\\logo\\Main Logo Check.png\")\n",
    "torch.tensor(np.array(t)).shape\n",
    "\n",
    "# plt.imshow"
   ]
  },
  {
   "cell_type": "code",
   "execution_count": 11,
   "outputs": [
    {
     "data": {
      "text/plain": "<module 'data_loaders' from 'F:\\\\Coding\\\\data-science\\\\fastai\\\\neural-net-experiments\\\\data_loaders.py'>"
     },
     "execution_count": 11,
     "metadata": {},
     "output_type": "execute_result"
    }
   ],
   "source": [
    "from importlib import reload # import the reload function\n",
    "reload(data_loaders) "
   ],
   "metadata": {
    "collapsed": false,
    "ExecuteTime": {
     "end_time": "2023-09-09T21:34:46.034502Z",
     "start_time": "2023-09-09T21:34:46.017490600Z"
    }
   }
  },
  {
   "cell_type": "code",
   "execution_count": 12,
   "outputs": [
    {
     "data": {
      "text/plain": "<Figure size 800x800 with 9 Axes>",
      "image/png": "[encoded data removed]"
     },
     "metadata": {},
     "output_type": "display_data"
    }
   ],
   "source": [
    "data_loaders.preview_data_sample(train_loader.dataset)"
   ],
   "metadata": {
    "collapsed": false,
    "ExecuteTime": {
     "end_time": "2023-09-09T21:34:47.777412300Z",
     "start_time": "2023-09-09T21:34:46.370896400Z"
    }
   }
  },
  {
   "cell_type": "code",
   "execution_count": 16,
   "outputs": [],
   "source": [
    "from torchvision.models import resnet18\n",
    "import learning"
   ],
   "metadata": {
    "collapsed": false,
    "ExecuteTime": {
     "end_time": "2023-09-09T21:40:11.541184900Z",
     "start_time": "2023-09-09T21:40:11.531164700Z"
    }
   }
  },
  {
   "cell_type": "code",
   "execution_count": 14,
   "outputs": [
    {
     "data": {
      "text/plain": "True"
     },
     "execution_count": 14,
     "metadata": {},
     "output_type": "execute_result"
    }
   ],
   "source": [
    "torch.cuda.is_available()"
   ],
   "metadata": {
    "collapsed": false,
    "ExecuteTime": {
     "end_time": "2023-09-09T21:38:31.581648900Z",
     "start_time": "2023-09-09T21:38:31.566633Z"
    }
   }
  },
  {
   "cell_type": "code",
   "execution_count": 19,
   "outputs": [
    {
     "data": {
      "text/plain": "Output()",
      "application/vnd.jupyter.widget-view+json": {
       "version_major": 2,
       "version_minor": 0,
       "model_id": "76ab546bccb64cb5890b642aa63f69a9"
      }
     },
     "metadata": {},
     "output_type": "display_data"
    },
    {
     "data": {
      "text/plain": "",
      "text/html": "<pre style=\"white-space:pre;overflow-x:auto;line-height:normal;font-family:Menlo,'DejaVu Sans Mono',consolas,'Courier New',monospace\"></pre>\n"
     },
     "metadata": {},
     "output_type": "display_data"
    },
    {
     "ename": "KeyboardInterrupt",
     "evalue": "",
     "output_type": "error",
     "traceback": [
      "\u001B[1;31m---------------------------------------------------------------------------\u001B[0m",
      "\u001B[1;31mKeyboardInterrupt\u001B[0m                         Traceback (most recent call last)",
      "Input \u001B[1;32mIn [19]\u001B[0m, in \u001B[0;36m<cell line: 13>\u001B[1;34m()\u001B[0m\n\u001B[0;32m      4\u001B[0m model \u001B[38;5;241m=\u001B[39m resnet18(weights\u001B[38;5;241m=\u001B[39m\u001B[38;5;28;01mNone\u001B[39;00m, num_classes\u001B[38;5;241m=\u001B[39m\u001B[38;5;241m10\u001B[39m)\u001B[38;5;241m.\u001B[39mto(\u001B[38;5;124m\"\u001B[39m\u001B[38;5;124mcuda\u001B[39m\u001B[38;5;124m\"\u001B[39m)\n\u001B[0;32m      5\u001B[0m learner \u001B[38;5;241m=\u001B[39m learning\u001B[38;5;241m.\u001B[39mLearner(\n\u001B[0;32m      6\u001B[0m     data_loaders\u001B[38;5;241m=\u001B[39mlearning\u001B[38;5;241m.\u001B[39mDataLoaders(train_loader, valid_loader, test_loader),\n\u001B[0;32m      7\u001B[0m     model\u001B[38;5;241m=\u001B[39mmodel,\n\u001B[1;32m   (...)\u001B[0m\n\u001B[0;32m     10\u001B[0m     device\u001B[38;5;241m=\u001B[39m\u001B[38;5;124m\"\u001B[39m\u001B[38;5;124mcuda\u001B[39m\u001B[38;5;124m\"\u001B[39m\n\u001B[0;32m     11\u001B[0m )\n\u001B[1;32m---> 13\u001B[0m \u001B[43mlearner\u001B[49m\u001B[38;5;241;43m.\u001B[39;49m\u001B[43mtrain_model\u001B[49m\u001B[43m(\u001B[49m\u001B[38;5;241;43m5\u001B[39;49m\u001B[43m)\u001B[49m\n",
      "File \u001B[1;32mF:\\Coding\\data-science\\fastai\\neural-net-experiments\\learning.py:201\u001B[0m, in \u001B[0;36mLearner.train_model\u001B[1;34m(self, epochs)\u001B[0m\n\u001B[0;32m    199\u001B[0m \u001B[38;5;28;01mfor\u001B[39;00m epoch \u001B[38;5;129;01min\u001B[39;00m \u001B[38;5;28mrange\u001B[39m(epochs):\n\u001B[0;32m    200\u001B[0m     \u001B[38;5;28mself\u001B[39m\u001B[38;5;241m.\u001B[39mcurrent_epoch_num \u001B[38;5;241m=\u001B[39m epoch \u001B[38;5;241m+\u001B[39m \u001B[38;5;241m1\u001B[39m\n\u001B[1;32m--> 201\u001B[0m     \u001B[38;5;28;43mself\u001B[39;49m\u001B[38;5;241;43m.\u001B[39;49m\u001B[43mtrain_loop\u001B[49m\u001B[43m(\u001B[49m\u001B[43mprogress\u001B[49m\u001B[43m)\u001B[49m\n\u001B[0;32m    202\u001B[0m     progress_epoch\u001B[38;5;241m.\u001B[39mupdate(training_epochs, advance\u001B[38;5;241m=\u001B[39m\u001B[38;5;241m1\u001B[39m)\n\u001B[0;32m    203\u001B[0m     correct, valid_loss \u001B[38;5;241m=\u001B[39m \u001B[38;5;28mself\u001B[39m\u001B[38;5;241m.\u001B[39mvalid_loop(progress)\n",
      "File \u001B[1;32mF:\\Coding\\data-science\\fastai\\neural-net-experiments\\learning.py:84\u001B[0m, in \u001B[0;36mLearner.train_loop\u001B[1;34m(self, progress)\u001B[0m\n\u001B[0;32m     82\u001B[0m \u001B[38;5;66;03m# Compute prediction and loss\u001B[39;00m\n\u001B[0;32m     83\u001B[0m predictions \u001B[38;5;241m=\u001B[39m \u001B[38;5;28mself\u001B[39m\u001B[38;5;241m.\u001B[39mmodel(xb\u001B[38;5;241m.\u001B[39mto(\u001B[38;5;28mself\u001B[39m\u001B[38;5;241m.\u001B[39mdevice))\n\u001B[1;32m---> 84\u001B[0m loss \u001B[38;5;241m=\u001B[39m \u001B[38;5;28mself\u001B[39m\u001B[38;5;241m.\u001B[39mloss_function(predictions, \u001B[43myb\u001B[49m\u001B[38;5;241;43m.\u001B[39;49m\u001B[43mto\u001B[49m\u001B[43m(\u001B[49m\u001B[38;5;28;43mself\u001B[39;49m\u001B[38;5;241;43m.\u001B[39;49m\u001B[43mdevice\u001B[49m\u001B[43m)\u001B[49m)\n\u001B[0;32m     86\u001B[0m \u001B[38;5;66;03m# Backpropagation\u001B[39;00m\n\u001B[0;32m     87\u001B[0m \u001B[38;5;28mself\u001B[39m\u001B[38;5;241m.\u001B[39moptimizer\u001B[38;5;241m.\u001B[39mzero_grad()\n",
      "\u001B[1;31mKeyboardInterrupt\u001B[0m: "
     ]
    }
   ],
   "source": [
    "from torch import nn\n",
    "\n",
    "torch.cuda.empty_cache()\n",
    "model = resnet18(weights=None, num_classes=10).to(\"cuda\")\n",
    "learner = learning.Learner(\n",
    "    data_loaders=learning.DataLoaders(train_loader, valid_loader, test_loader),\n",
    "    model=model,\n",
    "    loss_function=nn.CrossEntropyLoss(),\n",
    "    optimizer=torch.optim.SGD(model.parameters(), lr=0.1),\n",
    "    device=\"cuda\"\n",
    ")\n",
    "\n",
    "learner.train_model(5)"
   ],
   "metadata": {
    "collapsed": false,
    "ExecuteTime": {
     "end_time": "2023-09-09T21:45:40.194885100Z",
     "start_time": "2023-09-09T21:45:29.465294900Z"
    }
   }
  },
  {
   "cell_type": "code",
   "execution_count": 2,
   "metadata": {
    "ExecuteTime": {
     "end_time": "2023-09-09T20:46:46.030389Z",
     "start_time": "2023-09-09T20:46:46.019378300Z"
    }
   },
   "outputs": [
    {
     "data": {
      "text/plain": "(torch.Size([1, 28, 28]), torch.Size([3, 28, 28]))"
     },
     "execution_count": 2,
     "metadata": {},
     "output_type": "execute_result"
    }
   ],
   "source": [
    "from torchvision.io import ImageReadMode, read_image\n",
    "from torchvision.models import resnet18\n",
    "\n",
    "test_4_gray = read_image(r'C:\\Users\\Danny\\ml_datasets\\mnist\\train\\4\\02542.png')\n",
    "test_4_rgb = read_image(r'C:\\Users\\Danny\\ml_datasets\\mnist\\train\\4\\02542.png', ImageReadMode.RGB)\n",
    "test_4_gray.shape, test_4_rgb.shape"
   ]
  },
  {
   "cell_type": "code",
   "execution_count": 32,
   "metadata": {},
   "outputs": [
    {
     "data": {
      "text/plain": [
       "(torch.Size([3, 28, 28]), torch.Size([3, 28, 28]))"
      ]
     },
     "execution_count": 32,
     "metadata": {},
     "output_type": "execute_result"
    }
   ],
   "source": [
    "image.shape, image.squeeze().shape"
   ]
  },
  {
   "cell_type": "code",
   "execution_count": 34,
   "metadata": {},
   "outputs": [
    {
     "data": {
      "text/plain": [
       "(torch.Size([1, 28, 28]), torch.Size([28, 28]))"
      ]
     },
     "execution_count": 34,
     "metadata": {},
     "output_type": "execute_result"
    }
   ],
   "source": [
    "test_4_gray.shape, test_4_gray.squeeze().shape"
   ]
  },
  {
   "cell_type": "code",
   "execution_count": 36,
   "metadata": {},
   "outputs": [
    {
     "data": {
      "text/plain": [
       "<matplotlib.image.AxesImage at 0x183f68134c0>"
      ]
     },
     "execution_count": 36,
     "metadata": {},
     "output_type": "execute_result"
    },
    {
     "data": {
      "image/png": "[encoded data removed]",
      "text/plain": [
       "<Figure size 640x480 with 1 Axes>"
      ]
     },
     "metadata": {},
     "output_type": "display_data"
    }
   ],
   "source": [
    "plt.imshow(test_4_gray.permute(1, 2, 0), cmap='gray')"
   ]
  },
  {
   "cell_type": "code",
   "execution_count": 38,
   "metadata": {},
   "outputs": [
    {
     "data": {
      "text/plain": [
       "<matplotlib.image.AxesImage at 0x183f6909700>"
      ]
     },
     "execution_count": 38,
     "metadata": {},
     "output_type": "execute_result"
    },
    {
     "data": {
      "image/png": "[encoded data removed]",
      "text/plain": [
       "<Figure size 640x480 with 1 Axes>"
      ]
     },
     "metadata": {},
     "output_type": "display_data"
    }
   ],
   "source": [
    "plt.imshow(test_4_rgb.permute(1, 2, 0))"
   ]
  },
  {
   "cell_type": "code",
   "execution_count": 66,
   "metadata": {},
   "outputs": [
    {
     "name": "stderr",
     "output_type": "stream",
     "text": [
      "c:\\Users\\Danny\\miniconda3\\lib\\site-packages\\torchvision\\models\\_utils.py:208: UserWarning: The parameter 'pretrained' is deprecated since 0.13 and will be removed in 0.15, please use 'weights' instead.\n",
      "  warnings.warn(\n",
      "c:\\Users\\Danny\\miniconda3\\lib\\site-packages\\torchvision\\models\\_utils.py:223: UserWarning: Arguments other than a weight enum or `None` for 'weights' are deprecated since 0.13 and will be removed in 0.15. The current behavior is equivalent to passing `weights=None`.\n",
      "  warnings.warn(msg)\n"
     ]
    },
    {
     "data": {
      "text/plain": [
       "tensor([[-19.4321,  64.5792,  56.0204,  81.3640,  28.0195,  -5.9913,   2.5978,\n",
       "         -22.1390, -76.7295, -41.8651]], grad_fn=<AddmmBackward0>)"
      ]
     },
     "execution_count": 66,
     "metadata": {},
     "output_type": "execute_result"
    }
   ],
   "source": [
    "# model = torch.hub.load(\"pytorch/vision:v0.10.0\", \"resnet18\", pretrained=False)\n",
    "model = resnet18(num_classes=10, pretrained=False)\n",
    "model.eval()\n",
    "logits = model(test_4_rgb.float().unsqueeze(0))\n",
    "logits\n",
    "# test_4_rgb.float().byte()"
   ]
  }
 ],
 "metadata": {
  "kernelspec": {
   "display_name": "Python 3.9.1 ('base')",
   "language": "python",
   "name": "python3"
  },
  "language_info": {
   "codemirror_mode": {
    "name": "ipython",
    "version": 3
   },
   "file_extension": ".py",
   "mimetype": "text/x-python",
   "name": "python",
   "nbconvert_exporter": "python",
   "pygments_lexer": "ipython3",
   "version": "3.9.1"
  },
  "orig_nbformat": 4,
  "vscode": {
   "interpreter": {
    "hash": "a4333aff78f02ceb249574bb8d51c27453f84af140a5fd7301d85e8b1ef8d5cd"
   }
  }
 },
 "nbformat": 4,
 "nbformat_minor": 2
}
