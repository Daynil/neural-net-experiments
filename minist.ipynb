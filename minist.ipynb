{
 "cells": [
  {
   "cell_type": "code",
   "execution_count": 1,
   "metadata": {},
   "outputs": [
    {
     "ename": "IndexError",
     "evalue": "Dimension out of range (expected to be in range of [-1, 0], but got 1)",
     "output_type": "error",
     "traceback": [
      "\u001b[1;31m---------------------------------------------------------------------------\u001b[0m",
      "\u001b[1;31mIndexError\u001b[0m                                Traceback (most recent call last)",
      "\u001b[1;32mc:\\Coding\\Data Science\\fastai\\neural-net-experiments\\minist.ipynb Cell 1\u001b[0m in \u001b[0;36m<cell line: 6>\u001b[1;34m()\u001b[0m\n\u001b[0;32m      <a href='vscode-notebook-cell:/c%3A/Coding/Data%20Science/fastai/neural-net-experiments/minist.ipynb#W0sZmlsZQ%3D%3D?line=1'>2</a>\u001b[0m \u001b[39mimport\u001b[39;00m \u001b[39mmnist\u001b[39;00m\n\u001b[0;32m      <a href='vscode-notebook-cell:/c%3A/Coding/Data%20Science/fastai/neural-net-experiments/minist.ipynb#W0sZmlsZQ%3D%3D?line=3'>4</a>\u001b[0m train_loader, valid_loader, test_loader \u001b[39m=\u001b[39m mnist\u001b[39m.\u001b[39mget_data()\n\u001b[1;32m----> <a href='vscode-notebook-cell:/c%3A/Coding/Data%20Science/fastai/neural-net-experiments/minist.ipynb#W0sZmlsZQ%3D%3D?line=5'>6</a>\u001b[0m data_loaders\u001b[39m.\u001b[39;49mpreview_data_sample(train_loader)\n",
      "File \u001b[1;32mc:\\Coding\\Data Science\\fastai\\neural-net-experiments\\data_loaders.py:67\u001b[0m, in \u001b[0;36mpreview_data_sample\u001b[1;34m(data_loader)\u001b[0m\n\u001b[0;32m     65\u001b[0m img, label \u001b[39m=\u001b[39m data_loader\u001b[39m.\u001b[39mdataset[sample_idx]\n\u001b[0;32m     66\u001b[0m figure\u001b[39m.\u001b[39madd_subplot(rows, cols, i)\n\u001b[1;32m---> 67\u001b[0m plt\u001b[39m.\u001b[39mtitle(label\u001b[39m.\u001b[39;49margmax(\u001b[39m1\u001b[39;49m))\n\u001b[0;32m     68\u001b[0m plt\u001b[39m.\u001b[39maxis(\u001b[39m\"\u001b[39m\u001b[39moff\u001b[39m\u001b[39m\"\u001b[39m)\n\u001b[0;32m     69\u001b[0m plt\u001b[39m.\u001b[39mimshow(img\u001b[39m.\u001b[39msqueeze()\u001b[39m.\u001b[39mcpu(), cmap\u001b[39m=\u001b[39m\u001b[39m\"\u001b[39m\u001b[39mgray\u001b[39m\u001b[39m\"\u001b[39m)\n",
      "\u001b[1;31mIndexError\u001b[0m: Dimension out of range (expected to be in range of [-1, 0], but got 1)"
     ]
    },
    {
     "data": {
      "image/png": "[encoded data removed]",
      "text/plain": [
       "<Figure size 800x800 with 1 Axes>"
      ]
     },
     "metadata": {},
     "output_type": "display_data"
    }
   ],
   "source": [
    "import data_loaders\n",
    "import mnist\n",
    "\n",
    "train_loader, valid_loader, test_loader = mnist.get_data()\n",
    "\n",
    "data_loaders.preview_data_sample(train_loader)"
   ]
  }
 ],
 "metadata": {
  "kernelspec": {
   "display_name": "Python 3.9.1 ('base')",
   "language": "python",
   "name": "python3"
  },
  "language_info": {
   "codemirror_mode": {
    "name": "ipython",
    "version": 3
   },
   "file_extension": ".py",
   "mimetype": "text/x-python",
   "name": "python",
   "nbconvert_exporter": "python",
   "pygments_lexer": "ipython3",
   "version": "3.9.1"
  },
  "orig_nbformat": 4,
  "vscode": {
   "interpreter": {
    "hash": "a4333aff78f02ceb249574bb8d51c27453f84af140a5fd7301d85e8b1ef8d5cd"
   }
  }
 },
 "nbformat": 4,
 "nbformat_minor": 2
}
